{
  "cells": [
    {
      "cell_type": "markdown",
      "source": [
        "<a href=\"https://githubtocolab.com/alevant/mlcourse/MultivariateReression.ipynb\" target=\"_parent\"><img src=\"https://colab.research.google.com/assets/colab-badge.svg\" alt=\"Open in Colab\"/></a>"
      ],
      "metadata": {
        "id": "cMCGxHkCX8Oj"
      },
      "id": "cMCGxHkCX8Oj"
    },
    {
      "cell_type": "markdown",
      "id": "37d9a183",
      "metadata": {
        "id": "37d9a183"
      },
      "source": [
        "# Multivariate regression exercise"
      ]
    },
    {
      "cell_type": "markdown",
      "id": "3d06100e",
      "metadata": {
        "id": "3d06100e"
      },
      "source": [
        "October 2021  \n",
        "Data Science study group\n",
        "  \n",
        "Practical example of multivariate regression to illustrate good practices in notebooks."
      ]
    },
    {
      "cell_type": "markdown",
      "id": "eab35a8c",
      "metadata": {
        "heading_collapsed": true,
        "id": "eab35a8c"
      },
      "source": [
        "## Libraries"
      ]
    },
    {
      "cell_type": "code",
      "source": [
        "!pip install shap"
      ],
      "metadata": {
        "id": "tRfIL8YjWWty",
        "outputId": "c2fc1ffb-c206-4972-98d1-96296d267b98",
        "colab": {
          "base_uri": "https://localhost:8080/"
        }
      },
      "id": "tRfIL8YjWWty",
      "execution_count": null,
      "outputs": [
        {
          "output_type": "stream",
          "name": "stdout",
          "text": [
            "Looking in indexes: https://pypi.org/simple, https://us-python.pkg.dev/colab-wheels/public/simple/\n",
            "Collecting shap\n",
            "  Downloading shap-0.40.0-cp37-cp37m-manylinux2010_x86_64.whl (564 kB)\n",
            "\u001b[K     |████████████████████████████████| 564 kB 5.3 MB/s \n",
            "\u001b[?25hRequirement already satisfied: tqdm>4.25.0 in /usr/local/lib/python3.7/dist-packages (from shap) (4.64.0)\n",
            "Requirement already satisfied: numba in /usr/local/lib/python3.7/dist-packages (from shap) (0.51.2)\n",
            "Collecting slicer==0.0.7\n",
            "  Downloading slicer-0.0.7-py3-none-any.whl (14 kB)\n",
            "Requirement already satisfied: scikit-learn in /usr/local/lib/python3.7/dist-packages (from shap) (1.0.2)\n",
            "Requirement already satisfied: pandas in /usr/local/lib/python3.7/dist-packages (from shap) (1.3.5)\n",
            "Requirement already satisfied: scipy in /usr/local/lib/python3.7/dist-packages (from shap) (1.4.1)\n",
            "Requirement already satisfied: numpy in /usr/local/lib/python3.7/dist-packages (from shap) (1.21.6)\n",
            "Requirement already satisfied: packaging>20.9 in /usr/local/lib/python3.7/dist-packages (from shap) (21.3)\n",
            "Requirement already satisfied: cloudpickle in /usr/local/lib/python3.7/dist-packages (from shap) (1.3.0)\n",
            "Requirement already satisfied: pyparsing!=3.0.5,>=2.0.2 in /usr/local/lib/python3.7/dist-packages (from packaging>20.9->shap) (3.0.9)\n",
            "Requirement already satisfied: llvmlite<0.35,>=0.34.0.dev0 in /usr/local/lib/python3.7/dist-packages (from numba->shap) (0.34.0)\n",
            "Requirement already satisfied: setuptools in /usr/local/lib/python3.7/dist-packages (from numba->shap) (57.4.0)\n",
            "Requirement already satisfied: python-dateutil>=2.7.3 in /usr/local/lib/python3.7/dist-packages (from pandas->shap) (2.8.2)\n",
            "Requirement already satisfied: pytz>=2017.3 in /usr/local/lib/python3.7/dist-packages (from pandas->shap) (2022.1)\n",
            "Requirement already satisfied: six>=1.5 in /usr/local/lib/python3.7/dist-packages (from python-dateutil>=2.7.3->pandas->shap) (1.15.0)\n",
            "Requirement already satisfied: joblib>=0.11 in /usr/local/lib/python3.7/dist-packages (from scikit-learn->shap) (1.1.0)\n",
            "Requirement already satisfied: threadpoolctl>=2.0.0 in /usr/local/lib/python3.7/dist-packages (from scikit-learn->shap) (3.1.0)\n",
            "Installing collected packages: slicer, shap\n",
            "Successfully installed shap-0.40.0 slicer-0.0.7\n"
          ]
        }
      ]
    },
    {
      "cell_type": "code",
      "source": [
        "!git clone https://github.com/alevant/mlcourse mlcourse"
      ],
      "metadata": {
        "id": "8wKyoPxj8Hvr"
      },
      "id": "8wKyoPxj8Hvr",
      "execution_count": null,
      "outputs": []
    },
    {
      "cell_type": "code",
      "execution_count": null,
      "id": "a7781288",
      "metadata": {
        "hidden": true,
        "id": "a7781288"
      },
      "outputs": [],
      "source": [
        "#General purpose\n",
        "import pandas as pd\n",
        "import numpy as np\n",
        "import warnings\n",
        "warnings.filterwarnings(\"ignore\", category=FutureWarning)\n",
        "\n",
        "#Visualization\n",
        "import seaborn as sns\n",
        "import matplotlib.pyplot as plt\n",
        "\n",
        "#Encoding\n",
        "from sklearn.compose import make_column_transformer\n",
        "from sklearn.preprocessing import LabelEncoder\n",
        "\n",
        "#Scaler\n",
        "from sklearn.preprocessing import StandardScaler\n",
        "\n",
        "#Model\n",
        "from sklearn.model_selection import train_test_split\n",
        "from sklearn.linear_model import LinearRegression\n",
        "\n",
        "#Metrics\n",
        "from sklearn import metrics\n",
        "import shap"
      ]
    },
    {
      "cell_type": "markdown",
      "id": "1fa3b4e1",
      "metadata": {
        "heading_collapsed": true,
        "id": "1fa3b4e1"
      },
      "source": [
        "## Import data"
      ]
    },
    {
      "cell_type": "code",
      "execution_count": null,
      "id": "77b7bee8",
      "metadata": {
        "hidden": true,
        "id": "77b7bee8"
      },
      "outputs": [],
      "source": [
        "df = pd.read_csv('CO2_Emissions_Canada.csv')"
      ]
    },
    {
      "cell_type": "code",
      "execution_count": null,
      "id": "562f7799",
      "metadata": {
        "hidden": true,
        "id": "562f7799"
      },
      "outputs": [],
      "source": [
        "df.head()"
      ]
    },
    {
      "cell_type": "markdown",
      "id": "a4ef301c",
      "metadata": {
        "hidden": true,
        "id": "a4ef301c"
      },
      "source": [
        "Datasets description  \n",
        "\n",
        "Make -> Company  \n",
        "Vehicle Class -> depending on their utility, capacity and weight  \n",
        "Trasmission -> Transmission type with number of gears  \n",
        "Fuel Consumption City (L/100 km) -> Fuel consumption in city roads (L/100 km)  \n",
        "Fuel Consumption Hwy (L/100 km) -> Fuel consumption in highways roads (L/100 km)  \n",
        "Fuel Consumption Comb (mpg) -> The combined fuel consumption (55% city, 45% highway) is shown in L/100 km"
      ]
    },
    {
      "cell_type": "markdown",
      "id": "3d6fc8b8",
      "metadata": {
        "heading_collapsed": true,
        "id": "3d6fc8b8"
      },
      "source": [
        "## EDA"
      ]
    },
    {
      "cell_type": "code",
      "execution_count": null,
      "id": "3f8c7166",
      "metadata": {
        "hidden": true,
        "id": "3f8c7166"
      },
      "outputs": [],
      "source": [
        "df.info()"
      ]
    },
    {
      "cell_type": "code",
      "execution_count": null,
      "id": "e4831c7f",
      "metadata": {
        "hidden": true,
        "id": "e4831c7f"
      },
      "outputs": [],
      "source": [
        "df.describe()"
      ]
    },
    {
      "cell_type": "raw",
      "id": "b24d8ba7",
      "metadata": {
        "hidden": true,
        "id": "b24d8ba7"
      },
      "source": [
        "Cast are ok but Fuel Consumption Comb (mpg) is rounded."
      ]
    },
    {
      "cell_type": "markdown",
      "id": "97b9bc21",
      "metadata": {
        "heading_collapsed": true,
        "hidden": true,
        "id": "97b9bc21"
      },
      "source": [
        "### Univariate analysis"
      ]
    },
    {
      "cell_type": "code",
      "execution_count": null,
      "id": "d48089c3",
      "metadata": {
        "hidden": true,
        "id": "d48089c3"
      },
      "outputs": [],
      "source": [
        "def bar_graph_values(col):\n",
        "    sns.countplot(y =col,\n",
        "                  data=df,\n",
        "                  orient = \"h\",\n",
        "                  order=df[col].value_counts().index)"
      ]
    },
    {
      "cell_type": "code",
      "execution_count": null,
      "id": "91133d2a",
      "metadata": {
        "hidden": true,
        "id": "91133d2a"
      },
      "outputs": [],
      "source": [
        "bar_graph_values('Vehicle Class')"
      ]
    },
    {
      "cell_type": "code",
      "execution_count": null,
      "id": "4fc373cb",
      "metadata": {
        "hidden": true,
        "id": "4fc373cb"
      },
      "outputs": [],
      "source": [
        "bar_graph_values('Engine Size(L)')"
      ]
    },
    {
      "cell_type": "code",
      "execution_count": null,
      "id": "ba44af79",
      "metadata": {
        "hidden": true,
        "id": "ba44af79"
      },
      "outputs": [],
      "source": [
        "#More detail description\n",
        "def generate_stats(col):\n",
        "    print(col+\" statical\")\n",
        "    print(\"Max value: \",df[col].max())\n",
        "    print(\"Min value: \",df[col].min())\n",
        "    print(\"Moda: \",df[col].mode())\n",
        "    print(\"Avg value: \",df[col].mean())\n",
        "    print(\"Std value: \",df[col].std())"
      ]
    },
    {
      "cell_type": "code",
      "execution_count": null,
      "id": "212d229b",
      "metadata": {
        "hidden": true,
        "id": "212d229b"
      },
      "outputs": [],
      "source": [
        "generate_stats('Engine Size(L)')"
      ]
    },
    {
      "cell_type": "code",
      "execution_count": null,
      "id": "30dced68",
      "metadata": {
        "hidden": true,
        "id": "30dced68"
      },
      "outputs": [],
      "source": [
        "bar_graph_values('Cylinders')"
      ]
    },
    {
      "cell_type": "code",
      "execution_count": null,
      "id": "e93481fd",
      "metadata": {
        "hidden": true,
        "id": "e93481fd"
      },
      "outputs": [],
      "source": [
        "bar_graph_values('Transmission')"
      ]
    },
    {
      "cell_type": "code",
      "execution_count": null,
      "id": "793839fe",
      "metadata": {
        "hidden": true,
        "id": "793839fe"
      },
      "outputs": [],
      "source": [
        "bar_graph_values('Fuel Type')"
      ]
    },
    {
      "cell_type": "code",
      "execution_count": null,
      "id": "70faef77",
      "metadata": {
        "hidden": true,
        "id": "70faef77"
      },
      "outputs": [],
      "source": [
        "df['CO2 Emissions(g/km)'].hist()"
      ]
    },
    {
      "cell_type": "raw",
      "id": "b050474c",
      "metadata": {
        "hidden": true,
        "id": "b050474c"
      },
      "source": [
        "Outlier treatment? "
      ]
    },
    {
      "cell_type": "markdown",
      "id": "61c5d2cc",
      "metadata": {
        "heading_collapsed": true,
        "hidden": true,
        "id": "61c5d2cc"
      },
      "source": [
        "### Bivariate analysis"
      ]
    },
    {
      "cell_type": "code",
      "execution_count": null,
      "id": "1cb02165",
      "metadata": {
        "hidden": true,
        "id": "1cb02165"
      },
      "outputs": [],
      "source": [
        "def box_graph_bivar(colx,coly):\n",
        "    plt.figure(figsize = (10,10))\n",
        "    sns.boxplot(data = df, x=colx, y=coly, palette = 'cubehelix')\n",
        "    plt.xticks(rotation = 90)\n",
        "    plt.show()"
      ]
    },
    {
      "cell_type": "code",
      "execution_count": null,
      "id": "ac57b42c",
      "metadata": {
        "hidden": true,
        "id": "ac57b42c"
      },
      "outputs": [],
      "source": [
        "box_graph_bivar('Make', 'CO2 Emissions(g/km)')"
      ]
    },
    {
      "cell_type": "code",
      "execution_count": null,
      "id": "41694c04",
      "metadata": {
        "hidden": true,
        "id": "41694c04"
      },
      "outputs": [],
      "source": [
        "box_graph_bivar('Vehicle Class', 'CO2 Emissions(g/km)')"
      ]
    },
    {
      "cell_type": "code",
      "execution_count": null,
      "id": "35a0492b",
      "metadata": {
        "hidden": true,
        "id": "35a0492b"
      },
      "outputs": [],
      "source": [
        "box_graph_bivar('Fuel Type', 'CO2 Emissions(g/km)')"
      ]
    },
    {
      "cell_type": "code",
      "execution_count": null,
      "id": "959d8080",
      "metadata": {
        "hidden": true,
        "id": "959d8080"
      },
      "outputs": [],
      "source": [
        "# City Fuel Consumption vs Highway Fuel Consumption with Fuel Category\n",
        "plt.figure(figsize = (10,10))\n",
        "sns.scatterplot(data=df, \n",
        "                x='Fuel Consumption City (L/100 km)', \n",
        "                y='Fuel Consumption Hwy (L/100 km)',\n",
        "                hue='Fuel Type')\n",
        "plt.show()"
      ]
    },
    {
      "cell_type": "code",
      "execution_count": null,
      "id": "aa375d3d",
      "metadata": {
        "hidden": true,
        "id": "aa375d3d"
      },
      "outputs": [],
      "source": [
        "df.groupby(by = 'Fuel Type')['Fuel Consumption Comb (L/100 km)'].mean()"
      ]
    },
    {
      "cell_type": "code",
      "execution_count": null,
      "id": "01118ff1",
      "metadata": {
        "hidden": true,
        "id": "01118ff1"
      },
      "outputs": [],
      "source": [
        "# Pivot table with Cylinders, Fuel Type and C02 Emissions\n",
        "df.pivot_table(values = ['CO2 Emissions(g/km)'], index = ['Cylinders','Fuel Type'], aggfunc = 'mean')"
      ]
    },
    {
      "cell_type": "code",
      "execution_count": null,
      "id": "6136fe85",
      "metadata": {
        "hidden": true,
        "id": "6136fe85"
      },
      "outputs": [],
      "source": [
        "# Heatmap for correlation values\n",
        "plt.figure(figsize = (10,10))\n",
        "sns.heatmap(df.corr(), annot=True)\n",
        "plt.show()"
      ]
    },
    {
      "cell_type": "markdown",
      "id": "2a45d168",
      "metadata": {
        "hidden": true,
        "id": "2a45d168"
      },
      "source": [
        " All Numerical Values are highly correlated to C02 Emission."
      ]
    },
    {
      "cell_type": "markdown",
      "id": "c3e590a3",
      "metadata": {
        "heading_collapsed": true,
        "id": "c3e590a3"
      },
      "source": [
        "## ETL"
      ]
    },
    {
      "cell_type": "code",
      "execution_count": null,
      "id": "29db1a4f",
      "metadata": {
        "hidden": true,
        "id": "29db1a4f"
      },
      "outputs": [],
      "source": [
        "#From trasmission, I only need gears (last value)\n",
        "df['Gears'] = df['Transmission'].apply(lambda x:x[-1])\n",
        "df['Gears'] = df['Gears'].replace('V','0')\n",
        "df['Gears'].astype('int')\n",
        "bar_graph_values('Gears')"
      ]
    },
    {
      "cell_type": "markdown",
      "id": "9d423ba2",
      "metadata": {
        "heading_collapsed": true,
        "hidden": true,
        "id": "9d423ba2"
      },
      "source": [
        "### Outlier Treatment\n",
        "Tukey Test"
      ]
    },
    {
      "cell_type": "code",
      "execution_count": null,
      "id": "55ee9ee6",
      "metadata": {
        "hidden": true,
        "id": "55ee9ee6"
      },
      "outputs": [],
      "source": [
        "#Relevate quantile\n",
        "Q1=df['CO2 Emissions(g/km)'].quantile(0.25)\n",
        "Q3=df['CO2 Emissions(g/km)'].quantile(0.75)\n",
        "#Interquantile range\n",
        "IQR=Q3-Q1\n",
        "#Filter\n",
        "df = df.loc[df['CO2 Emissions(g/km)']<= (Q3+1.5*IQR)]\n",
        "#Final shape\n",
        "df.shape"
      ]
    },
    {
      "cell_type": "markdown",
      "id": "9a152b97",
      "metadata": {
        "hidden": true,
        "id": "9a152b97"
      },
      "source": [
        "The df shape continues to be useful to perform regression."
      ]
    },
    {
      "cell_type": "markdown",
      "id": "65380153",
      "metadata": {
        "heading_collapsed": true,
        "hidden": true,
        "id": "65380153"
      },
      "source": [
        "### Select meaningful data"
      ]
    },
    {
      "cell_type": "code",
      "execution_count": null,
      "id": "90ce76f1",
      "metadata": {
        "hidden": true,
        "id": "90ce76f1"
      },
      "outputs": [],
      "source": [
        "cols = ['Vehicle Class',\n",
        "       'Engine Size(L)',\n",
        "       'Cylinders',\n",
        "       'Gears',\n",
        "       'Fuel Type',\n",
        "       'Fuel Consumption Comb (mpg)',\n",
        "       'CO2 Emissions(g/km)']\n",
        "model_df = df[cols]\n",
        "model_df.head()"
      ]
    },
    {
      "cell_type": "markdown",
      "id": "2deb4f9f",
      "metadata": {
        "heading_collapsed": true,
        "hidden": true,
        "id": "2deb4f9f"
      },
      "source": [
        "### Encoding"
      ]
    },
    {
      "cell_type": "code",
      "execution_count": null,
      "id": "54aaad6a",
      "metadata": {
        "hidden": true,
        "id": "54aaad6a"
      },
      "outputs": [],
      "source": [
        "#Vehicle Class\n",
        "le_vehicle = LabelEncoder()\n",
        "model_df['Vehicle Class'] = le_vehicle.fit_transform(model_df['Vehicle Class'])"
      ]
    },
    {
      "cell_type": "code",
      "execution_count": null,
      "id": "dad97453",
      "metadata": {
        "hidden": true,
        "id": "dad97453"
      },
      "outputs": [],
      "source": [
        "#Fuel Type\n",
        "le_fuel = LabelEncoder()\n",
        "model_df['Fuel Type'] = le_fuel.fit_transform(model_df['Fuel Type'])"
      ]
    },
    {
      "cell_type": "markdown",
      "id": "806d2acb",
      "metadata": {
        "heading_collapsed": true,
        "hidden": true,
        "id": "806d2acb"
      },
      "source": [
        "### Scaler"
      ]
    },
    {
      "cell_type": "code",
      "execution_count": null,
      "id": "48b1a5d9",
      "metadata": {
        "hidden": true,
        "id": "48b1a5d9"
      },
      "outputs": [],
      "source": [
        "scaler = StandardScaler()\n",
        "scaler.fit(model_df)\n",
        "scaler_df = pd.DataFrame(scaler.transform(model_df), \n",
        "                      columns = model_df.columns)\n",
        "scaler_df.head()"
      ]
    },
    {
      "cell_type": "markdown",
      "id": "7509093a",
      "metadata": {
        "heading_collapsed": true,
        "id": "7509093a"
      },
      "source": [
        "## Model"
      ]
    },
    {
      "cell_type": "markdown",
      "id": "7c593c90",
      "metadata": {
        "heading_collapsed": true,
        "hidden": true,
        "id": "7c593c90"
      },
      "source": [
        "### Split datasets"
      ]
    },
    {
      "cell_type": "code",
      "execution_count": null,
      "id": "6176bae1",
      "metadata": {
        "hidden": true,
        "id": "6176bae1"
      },
      "outputs": [],
      "source": [
        "target = scaler_df['CO2 Emissions(g/km)']\n",
        "features = scaler_df[scaler_df.columns.drop('CO2 Emissions(g/km)')]"
      ]
    },
    {
      "cell_type": "code",
      "execution_count": null,
      "id": "b1e9d20f",
      "metadata": {
        "hidden": true,
        "id": "b1e9d20f"
      },
      "outputs": [],
      "source": [
        "X_train, X_test, y_train, y_test = train_test_split(features, target, test_size = 0.2, random_state = 0)"
      ]
    },
    {
      "cell_type": "markdown",
      "id": "8fe70168",
      "metadata": {
        "heading_collapsed": true,
        "hidden": true,
        "id": "8fe70168"
      },
      "source": [
        "### BuIlding & Training"
      ]
    },
    {
      "cell_type": "code",
      "execution_count": null,
      "id": "2c31f11d",
      "metadata": {
        "hidden": true,
        "id": "2c31f11d"
      },
      "outputs": [],
      "source": [
        "regr = LinearRegression()\n",
        "regr.fit(X_train, y_train)"
      ]
    },
    {
      "cell_type": "markdown",
      "id": "c0af8bcb",
      "metadata": {
        "heading_collapsed": true,
        "id": "c0af8bcb"
      },
      "source": [
        "## Evaluation"
      ]
    },
    {
      "cell_type": "code",
      "execution_count": null,
      "id": "98ba1b40",
      "metadata": {
        "hidden": true,
        "id": "98ba1b40"
      },
      "outputs": [],
      "source": [
        "y_pred = regr.predict(X_test)"
      ]
    },
    {
      "cell_type": "code",
      "execution_count": null,
      "id": "61bd14b3",
      "metadata": {
        "hidden": true,
        "id": "61bd14b3"
      },
      "outputs": [],
      "source": [
        "print(metrics.mean_absolute_error(y_test, y_pred))\n",
        "print(metrics.mean_squared_error(y_test, y_pred))\n",
        "print(np.sqrt(metrics.mean_squared_error(y_test, y_pred)))\n",
        "print(metrics.r2_score(y_test, y_pred))"
      ]
    },
    {
      "cell_type": "markdown",
      "id": "c02b9ce6",
      "metadata": {
        "heading_collapsed": true,
        "hidden": true,
        "id": "c02b9ce6"
      },
      "source": [
        "### Shapley"
      ]
    },
    {
      "cell_type": "markdown",
      "id": "1b1ddbd4",
      "metadata": {
        "hidden": true,
        "id": "1b1ddbd4"
      },
      "source": [
        "Shapley Additive explanations is inspired by game theory to explain black-box function, like \"predict\" in Machine Learning models.\n",
        "\n",
        "It provides a way of measuring the contribution of each feature to produced output in the prediction."
      ]
    },
    {
      "cell_type": "code",
      "execution_count": null,
      "id": "edbc15af",
      "metadata": {
        "hidden": true,
        "id": "edbc15af"
      },
      "outputs": [],
      "source": [
        "explainer = shap.Explainer(regr.predict, X_train)\n",
        "shap_values = explainer(X_train)"
      ]
    },
    {
      "cell_type": "code",
      "execution_count": null,
      "id": "8d61fbf5",
      "metadata": {
        "hidden": true,
        "id": "8d61fbf5"
      },
      "outputs": [],
      "source": [
        "shap.plots.waterfall(shap_values[0])"
      ]
    },
    {
      "cell_type": "code",
      "execution_count": null,
      "id": "3e5cb4a2",
      "metadata": {
        "hidden": true,
        "id": "3e5cb4a2"
      },
      "outputs": [],
      "source": [
        "shap.plots.bar(shap_values)"
      ]
    },
    {
      "cell_type": "markdown",
      "id": "f7142f5b",
      "metadata": {
        "hidden": true,
        "id": "f7142f5b"
      },
      "source": [
        "Of course, the most important feature to predict emissions is Fuel Consumption Comb."
      ]
    }
  ],
  "metadata": {
    "kernelspec": {
      "display_name": "Python 3 (ipykernel)",
      "language": "python",
      "name": "python3"
    },
    "language_info": {
      "codemirror_mode": {
        "name": "ipython",
        "version": 3
      },
      "file_extension": ".py",
      "mimetype": "text/x-python",
      "name": "python",
      "nbconvert_exporter": "python",
      "pygments_lexer": "ipython3",
      "version": "3.8.10"
    },
    "latex_envs": {
      "LaTeX_envs_menu_present": true,
      "autoclose": false,
      "autocomplete": true,
      "bibliofile": "biblio.bib",
      "cite_by": "apalike",
      "current_citInitial": 1,
      "eqLabelWithNumbers": true,
      "eqNumInitial": 1,
      "hotkeys": {
        "equation": "Ctrl-E",
        "itemize": "Ctrl-I"
      },
      "labels_anchors": false,
      "latex_user_defs": false,
      "report_style_numbering": false,
      "user_envs_cfg": false
    },
    "colab": {
      "name": "MultivariateRegression.ipynb",
      "provenance": []
    }
  },
  "nbformat": 4,
  "nbformat_minor": 5
}