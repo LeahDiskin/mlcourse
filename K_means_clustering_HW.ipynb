{
  "cells": [
    {
      "cell_type": "markdown",
      "id": "nervous-subscriber",
      "metadata": {
        "id": "nervous-subscriber"
      },
      "source": [
        "# Performing K-Means clustering on Fish Market dataset with K = 7 (No. of fish species). Normalize dataset before clustering. Scikit Learn is used for clustering. Collecting the best possible  combination and assignment in clusters and performance comparison with the true class labels (Species)? Describing results.\n",
        "\n",
        "# Reading data and displaying, As in K-means clustering we do not provide labels (unsupervised) we may not to convert our  data in train and test"
      ]
    },
    {
      "cell_type": "code",
      "source": [
        "!git clone https://github.com/LeahDiskin/mlcourse mlcourse2"
      ],
      "metadata": {
        "id": "fb3aeFEWIPkB",
        "outputId": "ac9a724f-b5b4-4236-8f0d-a62de2ee0edd",
        "colab": {
          "base_uri": "https://localhost:8080/"
        }
      },
      "id": "fb3aeFEWIPkB",
      "execution_count": 3,
      "outputs": [
        {
          "output_type": "stream",
          "name": "stdout",
          "text": [
            "Cloning into 'mlcourse2'...\n",
            "remote: Enumerating objects: 69, done.\u001b[K\n",
            "remote: Counting objects:   3% (1/29)\u001b[K\rremote: Counting objects:   6% (2/29)\u001b[K\rremote: Counting objects:  10% (3/29)\u001b[K\rremote: Counting objects:  13% (4/29)\u001b[K\rremote: Counting objects:  17% (5/29)\u001b[K\rremote: Counting objects:  20% (6/29)\u001b[K\rremote: Counting objects:  24% (7/29)\u001b[K\rremote: Counting objects:  27% (8/29)\u001b[K\rremote: Counting objects:  31% (9/29)\u001b[K\rremote: Counting objects:  34% (10/29)\u001b[K\rremote: Counting objects:  37% (11/29)\u001b[K\rremote: Counting objects:  41% (12/29)\u001b[K\rremote: Counting objects:  44% (13/29)\u001b[K\rremote: Counting objects:  48% (14/29)\u001b[K\rremote: Counting objects:  51% (15/29)\u001b[K\rremote: Counting objects:  55% (16/29)\u001b[K\rremote: Counting objects:  58% (17/29)\u001b[K\rremote: Counting objects:  62% (18/29)\u001b[K\rremote: Counting objects:  65% (19/29)\u001b[K\rremote: Counting objects:  68% (20/29)\u001b[K\rremote: Counting objects:  72% (21/29)\u001b[K\rremote: Counting objects:  75% (22/29)\u001b[K\rremote: Counting objects:  79% (23/29)\u001b[K\rremote: Counting objects:  82% (24/29)\u001b[K\rremote: Counting objects:  86% (25/29)\u001b[K\rremote: Counting objects:  89% (26/29)\u001b[K\rremote: Counting objects:  93% (27/29)\u001b[K\rremote: Counting objects:  96% (28/29)\u001b[K\rremote: Counting objects: 100% (29/29)\u001b[K\rremote: Counting objects: 100% (29/29), done.\u001b[K\n",
            "remote: Compressing objects: 100% (15/15), done.\u001b[K\n",
            "remote: Total 69 (delta 22), reused 14 (delta 14), pack-reused 40\u001b[K\n",
            "Unpacking objects: 100% (69/69), done.\n"
          ]
        }
      ]
    },
    {
      "cell_type": "code",
      "execution_count": 4,
      "id": "marine-argument",
      "metadata": {
        "id": "marine-argument"
      },
      "outputs": [],
      "source": [
        "from sklearn.cluster import KMeans\n",
        "from sklearn import preprocessing\n",
        "import matplotlib.pyplot as plt\n",
        "import os\n",
        "import pandas as pd\n",
        "import numpy as np"
      ]
    },
    {
      "cell_type": "code",
      "execution_count": 5,
      "id": "civilian-guarantee",
      "metadata": {
        "id": "civilian-guarantee",
        "outputId": "ed0c9d42-2418-4b59-ef23-37c719c3e6de",
        "colab": {
          "base_uri": "https://localhost:8080/"
        }
      },
      "outputs": [
        {
          "output_type": "stream",
          "name": "stdout",
          "text": [
            "    Species  Weight  Length1  Length2  Length3   Height   Width\n",
            "65   Parkki   150.0     18.4     20.0     22.4   8.8928  3.2928\n",
            "37    Roach    78.0     17.5     18.8     21.2   5.5756  2.9044\n",
            "80    Perch    85.0     17.8     19.6     20.8   5.1376  3.0368\n",
            "21    Bream   685.0     31.4     34.0     39.2  15.9936  5.3704\n",
            "34    Bream   950.0     38.0     41.0     46.5  17.6235  6.3705\n",
            "66   Parkki   140.0     19.0     20.7     23.2   8.5376  3.2944\n",
            "143    Pike  1550.0     56.0     60.0     64.0   9.6000  6.1440\n",
            "9     Bream   500.0     28.5     30.7     36.2  14.2266  4.9594\n",
            "76    Perch    70.0     15.7     17.4     18.5   4.5880  2.9415\n",
            "135    Pike   510.0     40.0     42.5     45.5   6.8250  4.4590\n"
          ]
        }
      ],
      "source": [
        "current_path2 = os.getcwd()#% Finding current directory of the notebook\n",
        "current_path2 =os.path.join(current_path2,'./mlcourse/Fish.csv') # Adding file name at the end of the address\n",
        "data2 = pd.read_csv(current_path2)# reading csv file given on current_path\n",
        "fish2 = data2.copy()\n",
        "print(fish2.sample(10))#Displaying 10 random samples from dataset\n",
        "\n",
        "\n",
        "xtrain2 =fish2.copy()\n",
        "\n",
        "xtrain2.drop(['Species'],axis=1,inplace=True) #Removing Species Column\n",
        "ytrain2 = fish2['Species']\n",
        "X_scaled = preprocessing.scale(xtrain2) # scaling so that mean =0 variance =1\n",
        "kmeans = KMeans(n_clusters=7, random_state=0).fit(X_scaled) # make 7 clusters and fit on normalized data"
      ]
    },
    {
      "cell_type": "code",
      "execution_count": 6,
      "id": "hungry-softball",
      "metadata": {
        "id": "hungry-softball"
      },
      "outputs": [],
      "source": [
        "clusters= kmeans.predict(X_scaled) # Find the class of particular sample it belongs to"
      ]
    },
    {
      "cell_type": "code",
      "execution_count": 7,
      "id": "demonstrated-confidentiality",
      "metadata": {
        "id": "demonstrated-confidentiality"
      },
      "outputs": [],
      "source": [
        "#Ground truth label encoding \n",
        "y = [];\n",
        "Species = {'Bream':0,'Roach':1, 'Whitefish':2, 'Parkki':3 , 'Perch' : 4 , 'Pike':5 , 'Smelt':6 }\n",
        "for Specie in ytrain2:\n",
        "    y.append(Species[Specie])\n",
        "y=np.asarray(y) "
      ]
    },
    {
      "cell_type": "code",
      "execution_count": 8,
      "id": "later-calibration",
      "metadata": {
        "id": "later-calibration"
      },
      "outputs": [],
      "source": [
        "# Swaping true label as per clusters \n",
        "\n",
        "from scipy.stats import mode\n",
        "k_label = np.zeros_like(clusters)\n",
        "for i in range(7):\n",
        "    tempmask = (clusters == i) # return true and false with true where cluster is equal to i-th label\n",
        "    \n",
        "    k_label[tempmask] = mode(y[tempmask])[0] # It will return value which is the most occuring in \n",
        "                                            # the given array "
      ]
    },
    {
      "cell_type": "markdown",
      "id": "victorian-currency",
      "metadata": {
        "id": "victorian-currency"
      },
      "source": [
        "# It can be seen from the below two arrays that the above process is just swapping clusters class labels to get the maximum accuracy\n"
      ]
    },
    {
      "cell_type": "code",
      "execution_count": 9,
      "id": "boring-heart",
      "metadata": {
        "id": "boring-heart",
        "outputId": "30efd308-5b7f-4756-c091-e68e22322715",
        "colab": {
          "base_uri": "https://localhost:8080/"
        }
      },
      "outputs": [
        {
          "output_type": "stream",
          "name": "stdout",
          "text": [
            "[0 0 0 0 4 4 4 4 4 4 4 4 4 4 4 4 4 4 4 4 4 4 4 4 4 4 4 4 2 2 2 2 2 2 2 3 1\n",
            " 1 1 1 1 1 1 1 1 1 1 1 1 1 1 0 0 0 0 0 0 0 4 2 2 3 3 1 1 1 1 1 1 0 0 0 3 3\n",
            " 3 3 1 1 1 1 1 1 1 1 1 1 1 1 1 1 1 1 1 1 1 1 1 1 1 1 0 0 0 0 0 0 0 0 0 4 4\n",
            " 2 4 4 4 4 2 4 2 2 2 2 2 2 2 2 2 2 0 6 6 6 6 6 6 6 6 6 6 6 5 5 5 5 5 3 3 3\n",
            " 3 3 3 3 3 3 3 3 3 3 3]\n"
          ]
        }
      ],
      "source": [
        "print(clusters)"
      ]
    },
    {
      "cell_type": "code",
      "execution_count": 10,
      "id": "affecting-miracle",
      "metadata": {
        "id": "affecting-miracle",
        "outputId": "af81c992-bc37-487c-a63e-526b9614f787",
        "colab": {
          "base_uri": "https://localhost:8080/"
        }
      },
      "outputs": [
        {
          "output_type": "stream",
          "name": "stdout",
          "text": [
            "[4 4 4 4 0 0 0 0 0 0 0 0 0 0 0 0 0 0 0 0 0 0 0 0 0 0 0 0 4 4 4 4 4 4 4 6 4\n",
            " 4 4 4 4 4 4 4 4 4 4 4 4 4 4 4 4 4 4 4 4 4 0 4 4 6 6 4 4 4 4 4 4 4 4 4 6 6\n",
            " 6 6 4 4 4 4 4 4 4 4 4 4 4 4 4 4 4 4 4 4 4 4 4 4 4 4 4 4 4 4 4 4 4 4 4 0 0\n",
            " 4 0 0 0 0 4 0 4 4 4 4 4 4 4 4 4 4 4 5 5 5 5 5 5 5 5 5 5 5 5 5 5 5 5 6 6 6\n",
            " 6 6 6 6 6 6 6 6 6 6 6]\n"
          ]
        }
      ],
      "source": [
        "print(k_label)"
      ]
    },
    {
      "cell_type": "markdown",
      "id": "christian-archives",
      "metadata": {
        "id": "christian-archives"
      },
      "source": [
        "# How well do the clusters that you obtained in K-means clustering compare to the true class labels (Species)?"
      ]
    },
    {
      "cell_type": "code",
      "execution_count": 11,
      "id": "willing-possession",
      "metadata": {
        "id": "willing-possession",
        "outputId": "2c2ece71-404b-49c3-baee-6c42feedf950",
        "colab": {
          "base_uri": "https://localhost:8080/"
        }
      },
      "outputs": [
        {
          "output_type": "stream",
          "name": "stdout",
          "text": [
            "0.6226415094339622\n"
          ]
        }
      ],
      "source": [
        "from sklearn.metrics import accuracy_score\n",
        "print(accuracy_score(y, k_label))"
      ]
    },
    {
      "cell_type": "code",
      "execution_count": 12,
      "id": "social-czech",
      "metadata": {
        "id": "social-czech",
        "outputId": "439fef5b-394f-4511-9c11-0705c683e901",
        "colab": {
          "base_uri": "https://localhost:8080/",
          "height": 327
        }
      },
      "outputs": [
        {
          "output_type": "display_data",
          "data": {
            "text/plain": [
              "<Figure size 432x288 with 1 Axes>"
            ],
            "image/png": "[encoded data removed]"
          },
          "metadata": {}
        }
      ],
      "source": [
        "from sklearn.metrics import confusion_matrix\n",
        "import seaborn as sns; sns.set()\n",
        "mat = confusion_matrix(y, k_label)\n",
        "sns.heatmap(mat.T, square=True, annot=True, fmt='d', cbar=False,\n",
        "            xticklabels=Species,\n",
        "            yticklabels=Species)\n",
        "plt.xlabel('true label')\n",
        "plt.ylabel('predicted label');"
      ]
    },
    {
      "cell_type": "markdown",
      "id": "adult-minutes",
      "metadata": {
        "id": "adult-minutes"
      },
      "source": [
        "# Describing Results\n",
        "\n",
        "The dataset is highly imbalnced, there are only $6$ examples for the specie of \"Whitefish\". For the first class, Bream, there are $35$ samples in total out of which $25$ are classified as Bream and rest of them are classfied as Perch. \n",
        "The maximum error in classification is in case of Roach, Whitefish, and Parkki. Most of them are classified as perch. The possible reason of this failure is data distribution. More than one third of the dataset is consist of Perch, a possible reason of failure in classifying the other classes with small number of samples. The other reason of this miscalssifcation can be the close resembalnce of features in between Perch and rest of the three classes.\n",
        "\n",
        "For Pike and Smelt even thoguh we don't have many sampels the results are promising indicating that features describing these two species are more discrete when compared to other fish species. \n",
        "\n"
      ]
    },
    {
      "cell_type": "code",
      "source": [
        "##########################################"
      ],
      "metadata": {
        "id": "52Jx1kLMmTR6"
      },
      "id": "52Jx1kLMmTR6",
      "execution_count": 13,
      "outputs": []
    },
    {
      "cell_type": "code",
      "source": [
        "from scipy.spatial.distance import cdist\n",
        "\n",
        "distortions = []\n",
        "inertias = []\n",
        "K = range(1, 20)\n",
        "  \n",
        "for k in K:\n",
        "    # Building and fitting the model\n",
        "    kmeanModel = KMeans(n_clusters=k).fit(X_scaled)\n",
        "    kmeanModel.fit(X_scaled)\n",
        "  \n",
        "    # distortions.append(sum(np.min(cdist(X_scaled, kmeanModel.cluster_centers_,\n",
        "                                        # 'euclidean'), axis=1)) / X_scaled.shape[0])\n",
        "    inertias.append(kmeanModel.inertia_)\n"
      ],
      "metadata": {
        "id": "VTLF-ruZmULg"
      },
      "id": "VTLF-ruZmULg",
      "execution_count": 21,
      "outputs": []
    },
    {
      "cell_type": "code",
      "source": [
        "plt.plot(K, inertias, 'bx-')\n",
        "plt.xlabel('Values of K')\n",
        "plt.ylabel('Distortion')\n",
        "plt.title('The Elbow Method using Distortion')\n",
        "plt.show()\n",
        "\"The best N is 7\""
      ],
      "metadata": {
        "id": "fEHCwdrNmoxf",
        "outputId": "cbbbbc51-cd25-42f4-af90-c93b31359063",
        "colab": {
          "base_uri": "https://localhost:8080/",
          "height": 320
        }
      },
      "id": "fEHCwdrNmoxf",
      "execution_count": 25,
      "outputs": [
        {
          "output_type": "display_data",
          "data": {
            "text/plain": [
              "<Figure size 432x288 with 1 Axes>"
            ],
            "image/png": "[encoded data removed]"
          },
          "metadata": {}
        },
        {
          "output_type": "execute_result",
          "data": {
            "text/plain": [
              "'The best N is 7'"
            ],
            "application/vnd.google.colaboratory.intrinsic+json": {
              "type": "string"
            }
          },
          "metadata": {},
          "execution_count": 25
        }
      ]
    },
    {
      "cell_type": "code",
      "source": [
        ""
      ],
      "metadata": {
        "id": "Q_gySOl9rkmY"
      },
      "id": "Q_gySOl9rkmY",
      "execution_count": null,
      "outputs": []
    }
  ],
  "metadata": {
    "kernelspec": {
      "display_name": "Python 3",
      "language": "python",
      "name": "python3"
    },
    "language_info": {
      "codemirror_mode": {
        "name": "ipython",
        "version": 3
      },
      "file_extension": ".py",
      "mimetype": "text/x-python",
      "name": "python",
      "nbconvert_exporter": "python",
      "pygments_lexer": "ipython3",
      "version": "3.6.12"
    },
    "colab": {
      "name": "K-means clustering.ipynb",
      "provenance": []
    }
  },
  "nbformat": 4,
  "nbformat_minor": 5
}